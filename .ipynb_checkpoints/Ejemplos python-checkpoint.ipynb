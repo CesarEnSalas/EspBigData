{
 "cells": [
  {
   "cell_type": "code",
   "execution_count": null,
   "id": "28e39dd2-f359-474f-92bc-99ea5491027b",
   "metadata": {},
   "outputs": [],
   "source": [
    "En python, no hace falta declarar las variables."
   ]
  },
  {
   "cell_type": "code",
   "execution_count": 2,
   "id": "b2e1421f-5b8a-405b-9546-af70ea9c5cfd",
   "metadata": {},
   "outputs": [
    {
     "data": {
      "text/plain": [
       "12"
      ]
     },
     "execution_count": 2,
     "metadata": {},
     "output_type": "execute_result"
    }
   ],
   "source": [
    "a = 7\n",
    "b = 5\n",
    "a + b"
   ]
  },
  {
   "cell_type": "code",
   "execution_count": null,
   "id": "ba46d01b-1450-4c60-be35-4a1427a2bdf1",
   "metadata": {},
   "outputs": [],
   "source": [
    "Al ejecutar una celda de un cuaderno se muestra la última expresión evaluada. \n",
    "En un fichero .py hay que usar print()"
   ]
  },
  {
   "cell_type": "markdown",
   "id": "98120fd1",
   "metadata": {},
   "source": [
    "En python, la indentación cuenta. Las instrucciones que están más a la derecha están dentro del bucle."
   ]
  },
  {
   "cell_type": "code",
   "execution_count": 4,
   "id": "2e0218a4-cd28-4bab-801f-eb56e2aca8c3",
   "metadata": {},
   "outputs": [
    {
     "name": "stdout",
     "output_type": "stream",
     "text": [
      "0\n",
      "1\n",
      "2\n",
      "3\n",
      "4\n",
      "5\n",
      "6\n",
      "7\n",
      "8\n",
      "9\n"
     ]
    }
   ],
   "source": [
    "a = 0\n",
    "while a < 10:\n",
    "    print(a)\n",
    "    a = a + 1"
   ]
  },
  {
   "cell_type": "code",
   "execution_count": 10,
   "id": "f5e5c38f-5928-4fd0-98ca-db18c7bb4d10",
   "metadata": {},
   "outputs": [
    {
     "name": "stdout",
     "output_type": "stream",
     "text": [
      "0\n",
      "1\n",
      "2\n",
      "3\n",
      "4\n",
      "5\n"
     ]
    }
   ],
   "source": [
    "a = 0\n",
    "while a < 10:\n",
    "    print(a)\n",
    "    if a == 5:\n",
    "        break\n",
    "    a = a + 1"
   ]
  },
  {
   "cell_type": "markdown",
   "id": "a09bd7b2-f581-4fea-ad45-a6bcec6cc085",
   "metadata": {},
   "source": [
    "La asginación simultánea puede ser útil. \n",
    "Para mostrar la serie de Fibonacci"
   ]
  },
  {
   "cell_type": "code",
   "execution_count": 2,
   "id": "ee1898db",
   "metadata": {},
   "outputs": [
    {
     "name": "stdout",
     "output_type": "stream",
     "text": [
      "0\n",
      "1\n",
      "1\n",
      "2\n",
      "3\n",
      "5\n",
      "8\n"
     ]
    }
   ],
   "source": [
    "a, b = 0, 1\n",
    "while a < 10:  \n",
    "    print(a)\n",
    "    a, b = b, a+b"
   ]
  },
  {
   "cell_type": "markdown",
   "id": "5efa6464-5b8f-4b65-beaa-9813e306bf28",
   "metadata": {},
   "source": [
    "Veamos un ejemplo. Esto"
   ]
  },
  {
   "cell_type": "code",
   "execution_count": 6,
   "id": "f26d87c5-df6d-4cbe-82c7-7739089b2cf3",
   "metadata": {},
   "outputs": [
    {
     "name": "stdout",
     "output_type": "stream",
     "text": [
      "2 3\n"
     ]
    }
   ],
   "source": [
    "a = 1\n",
    "b = 2\n",
    "a, b = b, a+b\n",
    "print(a, b)"
   ]
  },
  {
   "cell_type": "markdown",
   "id": "01cc9617-e0dd-47a9-93b4-df722775fdcc",
   "metadata": {},
   "source": [
    "no es lo mismo que"
   ]
  },
  {
   "cell_type": "code",
   "execution_count": 8,
   "id": "2a493943-de84-4e0c-9a8c-9c0cf9ae07e2",
   "metadata": {},
   "outputs": [
    {
     "name": "stdout",
     "output_type": "stream",
     "text": [
      "2 4\n"
     ]
    }
   ],
   "source": [
    "a = 1\n",
    "b = 2\n",
    "a = b\n",
    "b = a + b\n",
    "print(a, b)"
   ]
  },
  {
   "cell_type": "code",
   "execution_count": 4,
   "id": "2750f093",
   "metadata": {},
   "outputs": [
    {
     "data": {
      "text/plain": [
       "5"
      ]
     },
     "execution_count": 4,
     "metadata": {},
     "output_type": "execute_result"
    }
   ],
   "source": [
    "a = 5\n",
    "a"
   ]
  },
  {
   "cell_type": "markdown",
   "id": "68e7b601-dd58-4c0a-b9f0-e42f3ce2e1e8",
   "metadata": {},
   "source": [
    "Ejemplo de if con elif"
   ]
  },
  {
   "cell_type": "code",
   "execution_count": 9,
   "id": "8f40e6ee",
   "metadata": {},
   "outputs": [
    {
     "name": "stdout",
     "output_type": "stream",
     "text": [
      "More\n"
     ]
    }
   ],
   "source": [
    "x = 3\n",
    "if x < 0:\n",
    "    x = 0\n",
    "    print('Negative changed to zero')\n",
    "elif x == 0:\n",
    "    print('Zero')\n",
    "elif x == 1:\n",
    "    print('Single')\n",
    "else:\n",
    "    print('More')"
   ]
  },
  {
   "cell_type": "code",
   "execution_count": null,
   "id": "37efb31c-25cf-4381-bb1a-ad5341337b55",
   "metadata": {},
   "outputs": [],
   "source": [
    "Las listas son el tipo de dato más importante"
   ]
  },
  {
   "cell_type": "code",
   "execution_count": 10,
   "id": "8cd6770f",
   "metadata": {},
   "outputs": [
    {
     "name": "stdout",
     "output_type": "stream",
     "text": [
      "cat 3\n",
      "window 6\n",
      "defenestrate 12\n"
     ]
    }
   ],
   "source": [
    "words = ['cat', 'window', 'defenestrate']\n",
    "for w in words:\n",
    "    print(w, len(w))"
   ]
  },
  {
   "cell_type": "markdown",
   "id": "f67369e4-0921-459e-b65e-1b8b16cd2ed8",
   "metadata": {},
   "source": [
    "Para el bucle for típico se usa la función range"
   ]
  },
  {
   "cell_type": "code",
   "execution_count": 13,
   "id": "e1acef6e",
   "metadata": {},
   "outputs": [
    {
     "name": "stdout",
     "output_type": "stream",
     "text": [
      "0\n",
      "2\n",
      "4\n",
      "6\n",
      "8\n",
      "10\n",
      "12\n",
      "14\n",
      "16\n"
     ]
    }
   ],
   "source": [
    "for i in range(0,18,2):\n",
    "    print(i)"
   ]
  },
  {
   "cell_type": "markdown",
   "id": "2167fd9a-0a51-4953-b53a-72cf89c467e7",
   "metadata": {},
   "source": [
    "Mostrar el objeto range no es muy útil"
   ]
  },
  {
   "cell_type": "code",
   "execution_count": 14,
   "id": "5adbde8e",
   "metadata": {},
   "outputs": [
    {
     "data": {
      "text/plain": [
       "range(5, 10)"
      ]
     },
     "execution_count": 14,
     "metadata": {},
     "output_type": "execute_result"
    }
   ],
   "source": [
    "range(5, 10)"
   ]
  },
  {
   "cell_type": "markdown",
   "id": "fa536ded-22ac-4509-8804-832b82e652b3",
   "metadata": {},
   "source": [
    "Para ver los elementos del rango hay que convertirlo a una lista con la función list"
   ]
  },
  {
   "cell_type": "code",
   "execution_count": 6,
   "id": "97ce78cf",
   "metadata": {},
   "outputs": [
    {
     "data": {
      "text/plain": [
       "[0, 1, 2, 3]"
      ]
     },
     "execution_count": 6,
     "metadata": {},
     "output_type": "execute_result"
    }
   ],
   "source": [
    "list(range(4))"
   ]
  },
  {
   "cell_type": "code",
   "execution_count": null,
   "id": "087910be-671d-4bd9-b298-31ef0595a587",
   "metadata": {},
   "outputs": [],
   "source": [
    "La función list() se usa mucho. Con una cadena, el resultado es:"
   ]
  },
  {
   "cell_type": "code",
   "execution_count": 16,
   "id": "0a748650",
   "metadata": {},
   "outputs": [
    {
     "data": {
      "text/plain": [
       "['h', 'o', 'l', 'a']"
      ]
     },
     "execution_count": 16,
     "metadata": {},
     "output_type": "execute_result"
    }
   ],
   "source": [
    "list(\"hola\")"
   ]
  },
  {
   "cell_type": "markdown",
   "id": "10930463-e62b-4600-9d18-ca87dc6b6ade",
   "metadata": {},
   "source": [
    "Para recorrer una cadena caracter a caracter"
   ]
  },
  {
   "cell_type": "code",
   "execution_count": 4,
   "id": "d3be6bd4-a160-4354-8091-9e867c06457d",
   "metadata": {},
   "outputs": [
    {
     "name": "stdout",
     "output_type": "stream",
     "text": [
      "h\n",
      "o\n",
      "l\n",
      "a\n"
     ]
    }
   ],
   "source": [
    "cadena = \"hola\"\n",
    "for i in range(len(cadena)):\n",
    "    print(cadena[i])"
   ]
  },
  {
   "cell_type": "markdown",
   "id": "291004e3-e960-4112-84cc-2e5b6d46a835",
   "metadata": {},
   "source": [
    "Ejemplo para declarar una función"
   ]
  },
  {
   "cell_type": "code",
   "execution_count": 17,
   "id": "8dce8fc6",
   "metadata": {},
   "outputs": [],
   "source": [
    "def cuadrado(x):\n",
    "    return x * x"
   ]
  },
  {
   "cell_type": "code",
   "execution_count": 18,
   "id": "51a4830d",
   "metadata": {},
   "outputs": [
    {
     "data": {
      "text/plain": [
       "25"
      ]
     },
     "execution_count": 18,
     "metadata": {},
     "output_type": "execute_result"
    }
   ],
   "source": [
    "cuadrado(5)"
   ]
  },
  {
   "cell_type": "markdown",
   "id": "05bc6c12-efe8-4409-aa41-2cd72aff5486",
   "metadata": {},
   "source": [
    "# Diccionarios"
   ]
  },
  {
   "cell_type": "markdown",
   "id": "20acfae0-b06b-43cc-b0ba-877bae3fb851",
   "metadata": {},
   "source": [
    "Es una colección de elementos clave: valor"
   ]
  },
  {
   "cell_type": "code",
   "execution_count": 11,
   "id": "035d40ac-c612-4e96-804f-f113b92b65ca",
   "metadata": {},
   "outputs": [],
   "source": [
    "dic = {'jack': 4098, 'sjoerd': 4127}"
   ]
  },
  {
   "cell_type": "code",
   "execution_count": 13,
   "id": "aa6d1c2d-075e-4d09-8a6b-4efc6736dc6e",
   "metadata": {},
   "outputs": [
    {
     "data": {
      "text/plain": [
       "{'jack': 4098, 'sjoerd': 4127}"
      ]
     },
     "execution_count": 13,
     "metadata": {},
     "output_type": "execute_result"
    }
   ],
   "source": [
    "dic"
   ]
  },
  {
   "cell_type": "markdown",
   "id": "c0b9d936-afdf-442e-aba4-baaf5ad0eed5",
   "metadata": {},
   "source": [
    "Para acceder a un elemento"
   ]
  },
  {
   "cell_type": "code",
   "execution_count": 15,
   "id": "d3e58320-d76b-4a71-bad0-09189a9c077a",
   "metadata": {},
   "outputs": [
    {
     "data": {
      "text/plain": [
       "4098"
      ]
     },
     "execution_count": 15,
     "metadata": {},
     "output_type": "execute_result"
    }
   ],
   "source": [
    "dic['jack']"
   ]
  },
  {
   "cell_type": "code",
   "execution_count": 17,
   "id": "c203e1a2-5caf-4bfc-a9bc-10ffe3990600",
   "metadata": {},
   "outputs": [
    {
     "data": {
      "text/plain": [
       "2048"
      ]
     },
     "execution_count": 17,
     "metadata": {},
     "output_type": "execute_result"
    }
   ],
   "source": [
    "dic['jack'] = 2048\n",
    "dic['jack']"
   ]
  },
  {
   "cell_type": "markdown",
   "id": "f94c1497-cb94-4ecd-9aac-35b624a84b4d",
   "metadata": {},
   "source": [
    "También se pueden crear con dict()"
   ]
  },
  {
   "cell_type": "code",
   "execution_count": 19,
   "id": "f29fa072-9208-439b-9405-9a7c39f82a5e",
   "metadata": {},
   "outputs": [
    {
     "data": {
      "text/plain": [
       "{'jack': 4096, 'sjoerd': 4127}"
      ]
     },
     "execution_count": 19,
     "metadata": {},
     "output_type": "execute_result"
    }
   ],
   "source": [
    "dict([('jack',4096), ('sjoerd', 4127)])"
   ]
  },
  {
   "cell_type": "markdown",
   "id": "a49da89c-db8c-403a-afb7-caf16b08549e",
   "metadata": {},
   "source": [
    "También hay \"dict comprehension\". En este ejemplo asigna claves por defecto"
   ]
  },
  {
   "cell_type": "code",
   "execution_count": 30,
   "id": "1468b20e-863a-4b3a-aae6-de168a5ed9a8",
   "metadata": {},
   "outputs": [
    {
     "data": {
      "text/plain": [
       "{0: 0, 1: 1, 2: 4, 3: 9, 4: 16, 5: 25, 6: 36, 7: 49, 8: 64, 9: 81}"
      ]
     },
     "execution_count": 30,
     "metadata": {},
     "output_type": "execute_result"
    }
   ],
   "source": [
    "{x: x ** 2 for x in range(10)}"
   ]
  },
  {
   "cell_type": "markdown",
   "id": "fa48d4b1-60d9-49c4-8751-3e37d88516f5",
   "metadata": {},
   "source": [
    "Para incluir claves"
   ]
  },
  {
   "cell_type": "code",
   "execution_count": 44,
   "id": "49824334-d604-4f96-b605-7c1b81c9d074",
   "metadata": {},
   "outputs": [
    {
     "data": {
      "text/plain": [
       "{'pos0': 0,\n",
       " 'pos1': 1,\n",
       " 'pos2': 4,\n",
       " 'pos3': 9,\n",
       " 'pos4': 16,\n",
       " 'pos5': 25,\n",
       " 'pos6': 36,\n",
       " 'pos7': 49,\n",
       " 'pos8': 64,\n",
       " 'pos9': 81}"
      ]
     },
     "execution_count": 44,
     "metadata": {},
     "output_type": "execute_result"
    }
   ],
   "source": [
    "cuadrados = {'pos'+str(x):  x ** 2 for x in range(10)}\n",
    "cuadrados"
   ]
  },
  {
   "cell_type": "markdown",
   "id": "a5e45ac2-7763-4003-98e7-f73a37917d0b",
   "metadata": {},
   "source": [
    "Para recorrer un diccionario"
   ]
  },
  {
   "cell_type": "code",
   "execution_count": 47,
   "id": "616affd0-624c-4fca-b828-2b7d97f4b6bd",
   "metadata": {},
   "outputs": [
    {
     "name": "stdout",
     "output_type": "stream",
     "text": [
      "pos0 0\n",
      "pos1 1\n",
      "pos2 4\n",
      "pos3 9\n",
      "pos4 16\n",
      "pos5 25\n",
      "pos6 36\n",
      "pos7 49\n",
      "pos8 64\n",
      "pos9 81\n"
     ]
    }
   ],
   "source": [
    "for k, v in cuadrados.items():\n",
    "    print(k, v)"
   ]
  },
  {
   "cell_type": "code",
   "execution_count": null,
   "id": "57b31211-0ebd-4089-9253-68c4adc3b732",
   "metadata": {},
   "outputs": [],
   "source": []
  }
 ],
 "metadata": {
  "kernelspec": {
   "display_name": "Python 3 (ipykernel)",
   "language": "python",
   "name": "python3"
  },
  "language_info": {
   "codemirror_mode": {
    "name": "ipython",
    "version": 3
   },
   "file_extension": ".py",
   "mimetype": "text/x-python",
   "name": "python",
   "nbconvert_exporter": "python",
   "pygments_lexer": "ipython3",
   "version": "3.12.4"
  }
 },
 "nbformat": 4,
 "nbformat_minor": 5
}
