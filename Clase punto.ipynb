{
 "cells": [
  {
   "cell_type": "code",
   "execution_count": 42,
   "id": "11ca95cb-4a69-4c4b-92c4-2e0bd874afae",
   "metadata": {},
   "outputs": [],
   "source": [
    "import math\n",
    "class Punto:\n",
    "    def __init__(self, x, y):\n",
    "        self.x = x\n",
    "        self.y = y\n",
    "    def __str__(self):\n",
    "        return \"(\" + str(self.x) + \",\" + str(self.y) + \")\"\n",
    "    def distancia(self, otro):\n",
    "        return math.sqrt((self.x - otro.x)**2 + (self.y - otro.y)**2)"
   ]
  },
  {
   "cell_type": "code",
   "execution_count": 44,
   "id": "61f71946-3e0f-425e-98ea-c878b7317042",
   "metadata": {},
   "outputs": [
    {
     "name": "stdout",
     "output_type": "stream",
     "text": [
      "(2,2)\n",
      "1.4142135623730951\n"
     ]
    }
   ],
   "source": [
    "p1 = Punto(2, 2)\n",
    "print(p1)\n",
    "p2 = Punto(3,3)\n",
    "print (p1.distancia(p2))"
   ]
  },
  {
   "cell_type": "code",
   "execution_count": null,
   "id": "02c1cea0-3bf8-4a1d-bec1-58340a6b832b",
   "metadata": {},
   "outputs": [],
   "source": []
  },
  {
   "cell_type": "code",
   "execution_count": null,
   "id": "1ea75832-854a-4ebe-afc7-e51a71053039",
   "metadata": {},
   "outputs": [],
   "source": []
  }
 ],
 "metadata": {
  "kernelspec": {
   "display_name": "Python 3 (ipykernel)",
   "language": "python",
   "name": "python3"
  },
  "language_info": {
   "codemirror_mode": {
    "name": "ipython",
    "version": 3
   },
   "file_extension": ".py",
   "mimetype": "text/x-python",
   "name": "python",
   "nbconvert_exporter": "python",
   "pygments_lexer": "ipython3",
   "version": "3.12.4"
  }
 },
 "nbformat": 4,
 "nbformat_minor": 5
}
