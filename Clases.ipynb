{
 "cells": [
  {
   "cell_type": "code",
   "execution_count": 2,
   "metadata": {
    "id": "Py1OExfEui4c"
   },
   "outputs": [],
   "source": [
    "class Persona:\n",
    "  def __init__(self, nombre, edad, telefonos, correo1, correo2):\n",
    "    self.nombre = nombre\n",
    "    self.edad = edad\n",
    "    self.telefonos = telefonos\n",
    "    self.correos = dict()\n",
    "    self.correos['personal'] = correo1\n",
    "    self.correos['trabajo'] = correo2\n",
    "  def __str__(self):\n",
    "    return self.nombre\n",
    "  # se puede utilizar con cualquiera de estas funciones\n",
    "  # https://docs.python.org/3/library/functions.html\n",
    "  def __len__(self):\n",
    "    return len(self.nombre)\n",
    "  def __getitem__(self, key):\n",
    "    #return self.telefonos[key]\n",
    "    return self.correos[key]"
   ]
  },
  {
   "cell_type": "code",
   "execution_count": 4,
   "metadata": {
    "colab": {
     "base_uri": "https://localhost:8080/"
    },
    "id": "OmPWrbDKu0XW",
    "outputId": "f01461c8-b062-4fd4-a6f7-d43ff433bfaa"
   },
   "outputs": [
    {
     "name": "stdout",
     "output_type": "stream",
     "text": [
      "Ana\n",
      "valorpersonal\n",
      "3\n"
     ]
    }
   ],
   "source": [
    "\n",
    "p = Persona(\"Ana\", 20, [\"222\", \"333\"], \"valorpersonal\", \"valortrabajo\")\n",
    "print(p)\n",
    "# el print comentado es para el getitem comentado\n",
    "#print(p[1])\n",
    "print(p['personal'])\n",
    "print(len(p))"
   ]
  },
  {
   "cell_type": "markdown",
   "metadata": {
    "id": "vPsNCmWns-2W"
   },
   "source": [
    "Clase para representar fracciones"
   ]
  },
  {
   "cell_type": "code",
   "execution_count": null,
   "metadata": {
    "id": "-SdVMtl3rciz"
   },
   "outputs": [],
   "source": [
    "class Fraccion():\n",
    "  def __init__(self, numerador, denominador):\n",
    "    self.numerador = numerador\n",
    "    self.denominador = denominador\n",
    "  def __str__(self):\n",
    "    return str(self.numerador) + \"/\" + str(self.denominador)\n",
    "  def sumar(self, f2):\n",
    "    resul = Fraccion(1, 1)\n",
    "    resul.numerador = self.numerador * f2.denominador +  f2.numerador * self.denominador\n",
    "    resul.denominador = self.denominador * f2.denominador\n",
    "    return resul\n"
   ]
  },
  {
   "cell_type": "markdown",
   "metadata": {
    "id": "eHmtV8VPtARn"
   },
   "source": [
    "Probarla"
   ]
  },
  {
   "cell_type": "code",
   "execution_count": null,
   "metadata": {
    "colab": {
     "base_uri": "https://localhost:8080/"
    },
    "id": "zPLOtSlstCL_",
    "outputId": "5fb3e4c1-9c5e-4cf4-e1b4-9c3d7a1266cc"
   },
   "outputs": [
    {
     "name": "stdout",
     "output_type": "stream",
     "text": [
      "9/9\n"
     ]
    }
   ],
   "source": [
    "f1 = Fraccion(2, 3)\n",
    "f2 = Fraccion(1, 3)\n",
    "r = f1.sumar(f2)\n",
    "print(r)"
   ]
  }
 ],
 "metadata": {
  "colab": {
   "provenance": []
  },
  "kernelspec": {
   "display_name": "Python 3 (ipykernel)",
   "language": "python",
   "name": "python3"
  },
  "language_info": {
   "codemirror_mode": {
    "name": "ipython",
    "version": 3
   },
   "file_extension": ".py",
   "mimetype": "text/x-python",
   "name": "python",
   "nbconvert_exporter": "python",
   "pygments_lexer": "ipython3",
   "version": "3.12.4"
  }
 },
 "nbformat": 4,
 "nbformat_minor": 4
}
