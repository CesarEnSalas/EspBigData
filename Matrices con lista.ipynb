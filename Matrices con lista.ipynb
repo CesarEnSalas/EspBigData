{
 "cells": [
  {
   "cell_type": "markdown",
   "metadata": {
    "id": "VQcNQULoedTq"
   },
   "source": [
    "Vamos a hacer algunos ejercicios con listas. \n",
    "Para empezar vamos a usar una lista de listas para representar una matriz.\n",
    "La matriz será una lista de filas. Cada fila será una lista de números. Por ejemplo, para la matriz:\n"
   ]
  },
  {
   "cell_type": "code",
   "execution_count": 2,
   "metadata": {
    "executionInfo": {
     "elapsed": 1517,
     "status": "ok",
     "timestamp": 1615309991142,
     "user": {
      "displayName": "Departamento de Informática del IES Clara del Rey",
      "photoUrl": "",
      "userId": "08502920485215945924"
     },
     "user_tz": -60
    },
    "id": "U95q5iPaeVeD"
   },
   "outputs": [
    {
     "data": {
      "text/plain": [
       "list"
      ]
     },
     "execution_count": 2,
     "metadata": {},
     "output_type": "execute_result"
    }
   ],
   "source": [
    "# 1 2 3\n",
    "# 4 5 6\n",
    "# 7 8 9\n",
    "matriz = [ [1, 2, 3], [4, 5, 6], [7, 8, 9]]\n"
   ]
  },
  {
   "cell_type": "markdown",
   "metadata": {
    "id": "X_HZjAMOgHh_"
   },
   "source": [
    "1. Escribe una función que reciba una lista de listas enteros, y compruebe si es válida como matriz. Es válida si todas las filas tienen el mismo número de columnas.\n"
   ]
  },
  {
   "cell_type": "code",
   "execution_count": 4,
   "metadata": {
    "executionInfo": {
     "elapsed": 1746,
     "status": "ok",
     "timestamp": 1615309991381,
     "user": {
      "displayName": "Departamento de Informática del IES Clara del Rey",
      "photoUrl": "",
      "userId": "08502920485215945924"
     },
     "user_tz": -60
    },
    "id": "vQpgsm7GgKxO"
   },
   "outputs": [],
   "source": [
    "def esMatriz(matriz):\n",
    "  # falta comprobar que sean números\n",
    "  if type(matriz) != list or len(matriz)==0:\n",
    "      return False\n",
    "  longitud = len(matriz[0])\n",
    "  for fila in matriz:\n",
    "    if(len(fila) != longitud):\n",
    "      return False\n",
    "\n",
    "  return True"
   ]
  },
  {
   "cell_type": "code",
   "execution_count": 12,
   "metadata": {
    "colab": {
     "base_uri": "https://localhost:8080/"
    },
    "executionInfo": {
     "elapsed": 1740,
     "status": "ok",
     "timestamp": 1615309991384,
     "user": {
      "displayName": "Departamento de Informática del IES Clara del Rey",
      "photoUrl": "",
      "userId": "08502920485215945924"
     },
     "user_tz": -60
    },
    "id": "ccma6j5Ch1ub",
    "outputId": "d1bb880e-f39f-49b9-bedf-968b510a132d"
   },
   "outputs": [
    {
     "name": "stdout",
     "output_type": "stream",
     "text": [
      "True\n",
      "False\n",
      "False\n",
      "False\n"
     ]
    }
   ],
   "source": [
    "matriz = [ [1, 2, 3], [4, 5, 6], [7, 8, 9]]\n",
    "print( esMatriz(matriz))\n",
    "print(esMatriz(\"hola\"))\n",
    "matriz = [ [1, 2, 3], [4, 5, 6], [7, 8]]\n",
    "print( esMatriz(matriz))\n",
    "matriz = []\n",
    "print( esMatriz(matriz))"
   ]
  },
  {
   "cell_type": "markdown",
   "metadata": {
    "id": "fWdbj12Sjrmj"
   },
   "source": [
    "\n",
    "2. Escribe una función que reciba dos matrices (representadas como en el ejercicio anterior) y devuelva una nueva matriz con la suma. Hay que comprobar que las matrices sean válidas y tengan la misma dimensión.\n",
    "\n"
   ]
  },
  {
   "cell_type": "code",
   "execution_count": 4,
   "metadata": {
    "executionInfo": {
     "elapsed": 1739,
     "status": "ok",
     "timestamp": 1615309991387,
     "user": {
      "displayName": "Departamento de Informática del IES Clara del Rey",
      "photoUrl": "",
      "userId": "08502920485215945924"
     },
     "user_tz": -60
    },
    "id": "tZahRKkijr4S"
   },
   "outputs": [],
   "source": [
    "def sumarMatrices(a, b):\n",
    "  resul = []  \n",
    "  # comprobaciones\n",
    "  # matrices vacías\n",
    "  if(len(a) == 0 or len(b) ==0):\n",
    "    raise Exception(\"Alguna de las matrices está vacía\")\n",
    "  if(not(esMatriz(a)) or not(esMatriz(b))):\n",
    "    raise Exception(\"Alguna de las matrices no es válida\")\n",
    "  # mismo número de filas\n",
    "  if (len(a)!= len(b)):\n",
    "    raise Exception(\"No tienen el mismo número de filas\")\n",
    "  # mismo número de columnas\n",
    "  cola = len(a[0])\n",
    "  colb = len(b[0])\n",
    "  if (cola!= colb):\n",
    "    raise Exception(\"No tienen el mismo número de columnas\")\n",
    "  for i in range(len(a)):\n",
    "    nuevafila = []\n",
    "    for j in range(len(a[0])):\n",
    "      nuevafila.append(a[i][j] + b[i][j])  \n",
    "    resul.append(nuevafila)\n",
    "  return resul  "
   ]
  },
  {
   "cell_type": "code",
   "execution_count": 5,
   "metadata": {
    "executionInfo": {
     "elapsed": 1737,
     "status": "ok",
     "timestamp": 1615309991388,
     "user": {
      "displayName": "Departamento de Informática del IES Clara del Rey",
      "photoUrl": "",
      "userId": "08502920485215945924"
     },
     "user_tz": -60
    },
    "id": "6hK-p0Hms-5p"
   },
   "outputs": [],
   "source": [
    "def sumarMatrices2(a, b):\n",
    "  resul = []  \n",
    "  # comprobaciones\n",
    "  # matrices vacías\n",
    "  if(len(a) == 0 or len(b) ==0):\n",
    "    raise Exception(\"Alguna de las matrices está vacía\")\n",
    "  if(not(esMatriz(a)) or not(esMatriz(b))):\n",
    "    raise Exception(\"Alguna de las matrices no es válida\")\n",
    "  # mismo número de filas\n",
    "  if (len(a)!= len(b)):\n",
    "    raise Exception(\"No tienen el mismo número de filas\")\n",
    "  # mismo número de columnas\n",
    "  cola = len(a[0])\n",
    "  colb = len(b[0])\n",
    "  if (cola!= colb):\n",
    "    raise Exception(\"No tienen el mismo número de columnas\")\n",
    "  for filaA, filaB in zip(a, b):\n",
    "    nuevafila = []\n",
    "    for elemA, elemB in zip (filaA, filaB):\n",
    "      nuevafila.append(elemA + elemB)\n",
    "    resul.append(nuevafila)\n",
    "  return resul  "
   ]
  },
  {
   "cell_type": "code",
   "execution_count": 6,
   "metadata": {
    "colab": {
     "base_uri": "https://localhost:8080/"
    },
    "executionInfo": {
     "elapsed": 1734,
     "status": "ok",
     "timestamp": 1615309991391,
     "user": {
      "displayName": "Departamento de Informática del IES Clara del Rey",
      "photoUrl": "",
      "userId": "08502920485215945924"
     },
     "user_tz": -60
    },
    "id": "hxrTHMvdmzh7",
    "outputId": "a3d90386-7d20-4c69-8f5e-359131774d01"
   },
   "outputs": [
    {
     "name": "stdout",
     "output_type": "stream",
     "text": [
      "[[2, 4, 6], [8, 10, 12], [14, 16, 9]]\n"
     ]
    }
   ],
   "source": [
    "matriz1 = [ [1, 2, 3], [4, 5, 6], [7, 8, 9]]\n",
    "matriz2 = [ [1, 2, 3], [4, 5, 6], [7, 8, 0]]\n",
    "suma = sumarMatrices(matriz1, matriz2)\n",
    "print(suma)"
   ]
  },
  {
   "cell_type": "markdown",
   "metadata": {
    "id": "iVW0-9vBr3wD"
   },
   "source": [
    "Recorrer dos lista a la vez"
   ]
  },
  {
   "cell_type": "code",
   "execution_count": 7,
   "metadata": {
    "colab": {
     "base_uri": "https://localhost:8080/"
    },
    "executionInfo": {
     "elapsed": 2415,
     "status": "ok",
     "timestamp": 1615309992076,
     "user": {
      "displayName": "Departamento de Informática del IES Clara del Rey",
      "photoUrl": "",
      "userId": "08502920485215945924"
     },
     "user_tz": -60
    },
    "id": "-ZKARp0vr1vF",
    "outputId": "f4d03556-a39b-4af9-9996-c7c3ce26a234"
   },
   "outputs": [
    {
     "name": "stdout",
     "output_type": "stream",
     "text": [
      "1 a\n",
      "2 b\n",
      "3 c\n"
     ]
    }
   ],
   "source": [
    "lista1 = [1 , 2, 3]\n",
    "lista2 = ['a', 'b', 'c']\n",
    "\n",
    "for elem1, elem2 in zip(lista1, lista2):\n",
    "  print(elem1, elem2)"
   ]
  },
  {
   "cell_type": "code",
   "execution_count": 7,
   "metadata": {
    "executionInfo": {
     "elapsed": 2414,
     "status": "ok",
     "timestamp": 1615309992079,
     "user": {
      "displayName": "Departamento de Informática del IES Clara del Rey",
      "photoUrl": "",
      "userId": "08502920485215945924"
     },
     "user_tz": -60
    },
    "id": "QxLj_1xer7SU"
   },
   "outputs": [],
   "source": []
  },
  {
   "cell_type": "markdown",
   "metadata": {
    "id": "qCXojHCLrD-0"
   },
   "source": [
    "3. Escribe la funcion:\n",
    "\n",
    "buscarMaximo(matriz, eje = 2)\n",
    "\n",
    "El primer argumento es una matriz (representada como en el ejercicio anterior) . El valor del segundo argumento indica qué cálculo hay que realizar:\n",
    "\n",
    "    Si es 0, hay que buscar el valor máximo para cada columna.  Se devolverá un vector con tantas posiciones como columnas.\n",
    "    Si es 1, hay que buscar el valor máximo para cada fila.  Se devolverá un vector con tantas posiciones como filas.\n",
    "    Si es 2, el valor por defecto, devolverá un solo número, el mayor de la matriz.\n",
    "\n",
    "Hay que comprobar que la matriz sea y el valor de eje sean válidos o lanzar excepciones apropiadas."
   ]
  },
  {
   "cell_type": "code",
   "execution_count": 8,
   "metadata": {
    "executionInfo": {
     "elapsed": 2413,
     "status": "ok",
     "timestamp": 1615309992081,
     "user": {
      "displayName": "Departamento de Informática del IES Clara del Rey",
      "photoUrl": "",
      "userId": "08502920485215945924"
     },
     "user_tz": -60
    },
    "id": "Pq5Tg642rDlp"
   },
   "outputs": [],
   "source": [
    "def buscarMaximo(matriz, eje = 2):\n",
    "  # comprobar si es una matriz \n",
    "  if not(esMatriz(matriz)):\n",
    "    raise Exception(\"Mátriz no válida\")\n",
    "  maximos = []\n",
    "  if(eje == 1 or eje == 2):\n",
    "    # recorrer fila a fila buscando el máximo\n",
    "    for fila in matriz:\n",
    "      maximos.append(max(fila))\n",
    "    if(eje == 1):\n",
    "      return maximos\n",
    "    else:\n",
    "      return max(maximos)\n",
    "  # para buscar el mááximos de cada columna\n",
    "  if(eje == 0):\n",
    "    # para cada columna\n",
    "    for j in range(len(matriz[0])):\n",
    "      # ponemos la columna en una lista\n",
    "      columna = [matriz[i][j]    for i in range(len(matriz))]\n",
    "      #columna = []\n",
    "      #for i in range(len(matriz)):\n",
    "      #  columna.append(matriz[i][j])\n",
    "\n",
    "\n",
    "      # el máximo en la columna      \n",
    "      maximos.append(max(columna))\n",
    "    return maximos"
   ]
  },
  {
   "cell_type": "markdown",
   "metadata": {
    "id": "R-nfpwrsgGWf"
   },
   "source": [
    "Probamos la funcióón"
   ]
  },
  {
   "cell_type": "code",
   "execution_count": 9,
   "metadata": {
    "executionInfo": {
     "elapsed": 2414,
     "status": "ok",
     "timestamp": 1615309992084,
     "user": {
      "displayName": "Departamento de Informática del IES Clara del Rey",
      "photoUrl": "",
      "userId": "08502920485215945924"
     },
     "user_tz": -60
    },
    "id": "CcSF3MhOrtKI"
   },
   "outputs": [],
   "source": [
    "matriz = [[1, 2, 3],          \n",
    "          [4, 5, 6],\n",
    "          [7, 8, 9],\n",
    "          [10, 11, 12]]"
   ]
  },
  {
   "cell_type": "code",
   "execution_count": 10,
   "metadata": {
    "colab": {
     "base_uri": "https://localhost:8080/",
     "height": 413
    },
    "executionInfo": {
     "elapsed": 2416,
     "status": "error",
     "timestamp": 1615309992087,
     "user": {
      "displayName": "Departamento de Informática del IES Clara del Rey",
      "photoUrl": "",
      "userId": "08502920485215945924"
     },
     "user_tz": -60
    },
    "id": "z0ySLGTwrtDR",
    "outputId": "d556bfa8-24e5-4f54-d70a-044b7426a023"
   },
   "outputs": [
    {
     "name": "stdout",
     "output_type": "stream",
     "text": [
      "12\n",
      "12\n",
      "[3, 6, 9, 12]\n",
      "[10, 11, 12]\n"
     ]
    },
    {
     "ename": "Exception",
     "evalue": "ignored",
     "output_type": "error",
     "traceback": [
      "\u001b[0;31m---------------------------------------------------------------------------\u001b[0m",
      "\u001b[0;31mException\u001b[0m                                 Traceback (most recent call last)",
      "\u001b[0;32m<ipython-input-10-f479eddfc8ab>\u001b[0m in \u001b[0;36m<module>\u001b[0;34m()\u001b[0m\n\u001b[1;32m      4\u001b[0m \u001b[0mprint\u001b[0m\u001b[0;34m(\u001b[0m\u001b[0mbuscarMaximo\u001b[0m\u001b[0;34m(\u001b[0m\u001b[0mmatriz\u001b[0m\u001b[0;34m,\u001b[0m \u001b[0meje\u001b[0m \u001b[0;34m=\u001b[0m \u001b[0;36m1\u001b[0m\u001b[0;34m)\u001b[0m\u001b[0;34m)\u001b[0m\u001b[0;34m\u001b[0m\u001b[0;34m\u001b[0m\u001b[0m\n\u001b[1;32m      5\u001b[0m \u001b[0mprint\u001b[0m\u001b[0;34m(\u001b[0m\u001b[0mbuscarMaximo\u001b[0m\u001b[0;34m(\u001b[0m\u001b[0mmatriz\u001b[0m\u001b[0;34m,\u001b[0m \u001b[0meje\u001b[0m \u001b[0;34m=\u001b[0m \u001b[0;36m0\u001b[0m\u001b[0;34m)\u001b[0m\u001b[0;34m)\u001b[0m\u001b[0;34m\u001b[0m\u001b[0;34m\u001b[0m\u001b[0m\n\u001b[0;32m----> 6\u001b[0;31m \u001b[0mprint\u001b[0m\u001b[0;34m(\u001b[0m\u001b[0mbuscarMaximo\u001b[0m\u001b[0;34m(\u001b[0m\u001b[0;34m[\u001b[0m\u001b[0;34m[\u001b[0m\u001b[0;36m1\u001b[0m\u001b[0;34m,\u001b[0m \u001b[0;36m2\u001b[0m\u001b[0;34m,\u001b[0m \u001b[0;36m3\u001b[0m\u001b[0;34m,\u001b[0m\u001b[0;34m]\u001b[0m\u001b[0;34m,\u001b[0m \u001b[0;34m[\u001b[0m\u001b[0;36m1\u001b[0m\u001b[0;34m,\u001b[0m \u001b[0;36m2\u001b[0m\u001b[0;34m]\u001b[0m\u001b[0;34m]\u001b[0m\u001b[0;34m,\u001b[0m \u001b[0meje\u001b[0m \u001b[0;34m=\u001b[0m \u001b[0;36m0\u001b[0m\u001b[0;34m)\u001b[0m\u001b[0;34m)\u001b[0m\u001b[0;34m\u001b[0m\u001b[0;34m\u001b[0m\u001b[0m\n\u001b[0m",
      "\u001b[0;32m<ipython-input-8-3799b3c7fc12>\u001b[0m in \u001b[0;36mbuscarMaximo\u001b[0;34m(matriz, eje)\u001b[0m\n\u001b[1;32m      2\u001b[0m   \u001b[0;31m# comprobar si es una matriz\u001b[0m\u001b[0;34m\u001b[0m\u001b[0;34m\u001b[0m\u001b[0;34m\u001b[0m\u001b[0m\n\u001b[1;32m      3\u001b[0m   \u001b[0;32mif\u001b[0m \u001b[0;32mnot\u001b[0m\u001b[0;34m(\u001b[0m\u001b[0mesMatriz\u001b[0m\u001b[0;34m(\u001b[0m\u001b[0mmatriz\u001b[0m\u001b[0;34m)\u001b[0m\u001b[0;34m)\u001b[0m\u001b[0;34m:\u001b[0m\u001b[0;34m\u001b[0m\u001b[0;34m\u001b[0m\u001b[0m\n\u001b[0;32m----> 4\u001b[0;31m     \u001b[0;32mraise\u001b[0m \u001b[0mException\u001b[0m\u001b[0;34m(\u001b[0m\u001b[0;34m\"Mátriz no válida\"\u001b[0m\u001b[0;34m)\u001b[0m\u001b[0;34m\u001b[0m\u001b[0;34m\u001b[0m\u001b[0m\n\u001b[0m\u001b[1;32m      5\u001b[0m   \u001b[0mmaximos\u001b[0m \u001b[0;34m=\u001b[0m \u001b[0;34m[\u001b[0m\u001b[0;34m]\u001b[0m\u001b[0;34m\u001b[0m\u001b[0;34m\u001b[0m\u001b[0m\n\u001b[1;32m      6\u001b[0m   \u001b[0;32mif\u001b[0m\u001b[0;34m(\u001b[0m\u001b[0meje\u001b[0m \u001b[0;34m==\u001b[0m \u001b[0;36m1\u001b[0m \u001b[0;32mor\u001b[0m \u001b[0meje\u001b[0m \u001b[0;34m==\u001b[0m \u001b[0;36m2\u001b[0m\u001b[0;34m)\u001b[0m\u001b[0;34m:\u001b[0m\u001b[0;34m\u001b[0m\u001b[0;34m\u001b[0m\u001b[0m\n",
      "\u001b[0;31mException\u001b[0m: Mátriz no válida"
     ]
    }
   ],
   "source": [
    "# probar si funciona\n",
    "print(buscarMaximo(matriz))\n",
    "print(buscarMaximo(matriz, eje = 2))\n",
    "print(buscarMaximo(matriz, eje = 1))\n",
    "print(buscarMaximo(matriz, eje = 0))\n",
    "print(buscarMaximo([[1, 2, 3,], [1, 2]], eje = 0))"
   ]
  }
 ],
 "metadata": {
  "colab": {
   "authorship_tag": "ABX9TyPpFYhotHb61Z4aXGa9JCo8",
   "name": "Matrices con lista.ipynb",
   "provenance": []
  },
  "kernelspec": {
   "display_name": "Python 3 (ipykernel)",
   "language": "python",
   "name": "python3"
  },
  "language_info": {
   "codemirror_mode": {
    "name": "ipython",
    "version": 3
   },
   "file_extension": ".py",
   "mimetype": "text/x-python",
   "name": "python",
   "nbconvert_exporter": "python",
   "pygments_lexer": "ipython3",
   "version": "3.12.4"
  }
 },
 "nbformat": 4,
 "nbformat_minor": 4
}
