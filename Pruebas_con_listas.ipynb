{
 "cells": [
  {
   "cell_type": "markdown",
   "metadata": {
    "id": "BGaOWFs0qDXp"
   },
   "source": [
    "\n",
    "# Funciones de listas\n",
    "\n"
   ]
  },
  {
   "cell_type": "markdown",
   "metadata": {
    "id": "AVdNCswdqV_O"
   },
   "source": [
    "Creamos unas listas de ejemplo"
   ]
  },
  {
   "cell_type": "code",
   "execution_count": 3,
   "metadata": {
    "colab": {
     "base_uri": "https://localhost:8080/"
    },
    "executionInfo": {
     "elapsed": 4,
     "status": "ok",
     "timestamp": 1707233485602,
     "user": {
      "displayName": "Departamento de Informática del IES Clara del Rey",
      "userId": "08502920485215945924"
     },
     "user_tz": -60
    },
    "id": "RpIgSlaNqCVM",
    "outputId": "caecb896-bc30-48c9-cda1-3d2ce9d1d9c8"
   },
   "outputs": [
    {
     "name": "stdout",
     "output_type": "stream",
     "text": [
      "[1, 2]\n",
      "[2, 3]\n"
     ]
    }
   ],
   "source": [
    "a = [1, 2]\n",
    "b = list((2, 3))\n",
    "print(a)\n",
    "print(b)"
   ]
  },
  {
   "cell_type": "markdown",
   "metadata": {
    "id": "7wZ3EkguqtB2"
   },
   "source": [
    "El método append() modifica el objeto. Si recibe una lista, la almacena entera en una sola posición"
   ]
  },
  {
   "cell_type": "code",
   "execution_count": 21,
   "metadata": {},
   "outputs": [
    {
     "name": "stdout",
     "output_type": "stream",
     "text": [
      "[2, 3, 4]\n"
     ]
    }
   ],
   "source": [
    "b.append(4)\n",
    "print(b)"
   ]
  },
  {
   "cell_type": "code",
   "execution_count": 6,
   "metadata": {
    "colab": {
     "base_uri": "https://localhost:8080/"
    },
    "id": "SHDTHM5yqigl",
    "outputId": "8b8ffab0-7dc8-4c90-f2e2-2cb3ec62490e"
   },
   "outputs": [
    {
     "name": "stdout",
     "output_type": "stream",
     "text": [
      "[1, 2, [2, 3, 4]]\n"
     ]
    }
   ],
   "source": [
    "a.append(b)\n",
    "print(a)"
   ]
  },
  {
   "cell_type": "markdown",
   "metadata": {
    "id": "YC2ylekgrOyv"
   },
   "source": [
    "Con extend(), los elementos de lista que recibe se añaden uno a uno."
   ]
  },
  {
   "cell_type": "code",
   "execution_count": 8,
   "metadata": {
    "colab": {
     "base_uri": "https://localhost:8080/"
    },
    "id": "oQ8d4D0Bq47d",
    "outputId": "648bbe41-d3e4-4236-8700-27ce55284a9e"
   },
   "outputs": [
    {
     "name": "stdout",
     "output_type": "stream",
     "text": [
      "[1, 2, 2, 3]\n"
     ]
    }
   ],
   "source": [
    "a = [1, 2]\n",
    "b = list((2, 3))\n",
    "a.extend(b)\n",
    "print(a)"
   ]
  },
  {
   "cell_type": "code",
   "execution_count": 9,
   "metadata": {},
   "outputs": [
    {
     "data": {
      "text/plain": [
       "[1, 2, 2, 3]"
      ]
     },
     "execution_count": 9,
     "metadata": {},
     "output_type": "execute_result"
    }
   ],
   "source": [
    "a = [1, 2]\n",
    "b = list((2, 3))\n",
    "a + b"
   ]
  },
  {
   "cell_type": "markdown",
   "metadata": {
    "id": "FtmxztleCsU_"
   },
   "source": [
    "# Vectores usando listas\n",
    "Podemos representar un vector con una lista. Para un vector en el plano, la lista tendrá dos elementos"
   ]
  },
  {
   "cell_type": "code",
   "execution_count": 11,
   "metadata": {
    "id": "RXpIcSzwCsVA"
   },
   "outputs": [],
   "source": [
    "v1 = [2, 3]\n",
    "v2 = [4, 5]"
   ]
  },
  {
   "cell_type": "markdown",
   "metadata": {
    "id": "pGkPhVpXCsVA"
   },
   "source": [
    "La suma de dos vectores es la suma componente a componente. Para poder sumar dos vectores, tienen que tener el mismo número de componentes."
   ]
  },
  {
   "cell_type": "code",
   "execution_count": 13,
   "metadata": {
    "id": "WAtNRYulCsVA",
    "outputId": "a91c3e9c-13b2-4c46-a49a-1d50afb2c88c"
   },
   "outputs": [
    {
     "data": {
      "text/plain": [
       "[6, 8]"
      ]
     },
     "execution_count": 13,
     "metadata": {},
     "output_type": "execute_result"
    }
   ],
   "source": [
    "v3 = []\n",
    "v3.append(v1[0] + v2[0])\n",
    "v3.append(v1[1] + v2[1])\n",
    "v3"
   ]
  },
  {
   "cell_type": "markdown",
   "metadata": {
    "id": "-5q_-ztwCsVC"
   },
   "source": [
    "Ejemplo: función que recibe una lista y devuelve la de suma todos sus elementos"
   ]
  },
  {
   "cell_type": "code",
   "execution_count": 15,
   "metadata": {},
   "outputs": [
    {
     "data": {
      "text/plain": [
       "15"
      ]
     },
     "execution_count": 15,
     "metadata": {},
     "output_type": "execute_result"
    }
   ],
   "source": [
    "# recibe una lista y suma todos sus elementos\n",
    "def sumarVector(lista):\n",
    "    # lo mejor es hacer esto, pero así practicamos los bucles\n",
    "    # suma = sum(lista)\n",
    "    suma = 0\n",
    "    for elem in lista:\n",
    "        suma = suma + elem\n",
    "    return suma\n",
    "sumarVector([4, 5, 6])"
   ]
  },
  {
   "cell_type": "markdown",
   "metadata": {
    "id": "wAGoaIRHCsVD"
   },
   "source": [
    "Otros ejemplo para recorrer listas (para listas con el mismo número de elementos)"
   ]
  },
  {
   "cell_type": "code",
   "execution_count": 17,
   "metadata": {
    "id": "IFBJ4RFJCsVD",
    "outputId": "23b25ec6-8c55-4b5d-ba37-6795af4785ab"
   },
   "outputs": [
    {
     "name": "stdout",
     "output_type": "stream",
     "text": [
      "2 4\n",
      "3 5\n"
     ]
    }
   ],
   "source": [
    "for elem1, elem2 in zip(v1, v2):\n",
    "    print(elem1, elem2)"
   ]
  },
  {
   "cell_type": "code",
   "execution_count": 18,
   "metadata": {
    "id": "Ur24Cg2gCsVD",
    "outputId": "88b16938-941d-41a6-c4e7-a74d494c0961"
   },
   "outputs": [
    {
     "name": "stdout",
     "output_type": "stream",
     "text": [
      "2 4\n",
      "3 5\n"
     ]
    }
   ],
   "source": [
    "for i in range(len(v1)):\n",
    "    print(v1[i], v2[i])"
   ]
  },
  {
   "cell_type": "markdown",
   "metadata": {
    "id": "2JrRhLenCsVE"
   },
   "source": [
    "Ejemplo: función que recibe dos listas y devuelve una lista con la suma posición a posición. Si no tienen el mismo número de elementos, lanza una excepción."
   ]
  },
  {
   "cell_type": "code",
   "execution_count": 24,
   "metadata": {
    "id": "Jz8zeU_PCsVE",
    "outputId": "5498c609-2cba-470d-d700-8dd5a5a9e36e",
    "scrolled": true
   },
   "outputs": [
    {
     "name": "stdout",
     "output_type": "stream",
     "text": [
      "[7, 10, 14]\n"
     ]
    },
    {
     "ename": "Exception",
     "evalue": "Error, diferentes longitudes",
     "output_type": "error",
     "traceback": [
      "\u001b[1;31m---------------------------------------------------------------------------\u001b[0m",
      "\u001b[1;31mException\u001b[0m                                 Traceback (most recent call last)",
      "Cell \u001b[1;32mIn[24], line 10\u001b[0m\n\u001b[0;32m      8\u001b[0m     \u001b[38;5;28;01mreturn\u001b[39;00m resul\n\u001b[0;32m      9\u001b[0m \u001b[38;5;28mprint\u001b[39m(sumaVectores([\u001b[38;5;241m2\u001b[39m, \u001b[38;5;241m3\u001b[39m, \u001b[38;5;241m4\u001b[39m], [\u001b[38;5;241m5\u001b[39m, \u001b[38;5;241m7\u001b[39m, \u001b[38;5;241m10\u001b[39m]))\n\u001b[1;32m---> 10\u001b[0m sumaVectores([\u001b[38;5;241m2\u001b[39m, \u001b[38;5;241m3\u001b[39m, \u001b[38;5;241m4\u001b[39m], [\u001b[38;5;241m5\u001b[39m, \u001b[38;5;241m7\u001b[39m, \u001b[38;5;241m10\u001b[39m, \u001b[38;5;241m4\u001b[39m])\n",
      "Cell \u001b[1;32mIn[24], line 3\u001b[0m, in \u001b[0;36msumaVectores\u001b[1;34m(vec1, vec2)\u001b[0m\n\u001b[0;32m      1\u001b[0m \u001b[38;5;28;01mdef\u001b[39;00m \u001b[38;5;21msumaVectores\u001b[39m(vec1, vec2):\n\u001b[0;32m      2\u001b[0m     \u001b[38;5;28;01mif\u001b[39;00m(\u001b[38;5;28mlen\u001b[39m(vec1) \u001b[38;5;241m!=\u001b[39m \u001b[38;5;28mlen\u001b[39m(vec2)):\n\u001b[1;32m----> 3\u001b[0m         \u001b[38;5;28;01mraise\u001b[39;00m \u001b[38;5;167;01mException\u001b[39;00m(\u001b[38;5;124m\"\u001b[39m\u001b[38;5;124mError, diferentes longitudes\u001b[39m\u001b[38;5;124m\"\u001b[39m)\n\u001b[0;32m      4\u001b[0m     resul \u001b[38;5;241m=\u001b[39m []\n\u001b[0;32m      5\u001b[0m     \u001b[38;5;28;01mfor\u001b[39;00m elem1, elem2 \u001b[38;5;129;01min\u001b[39;00m \u001b[38;5;28mzip\u001b[39m(vec1, vec2):\n",
      "\u001b[1;31mException\u001b[0m: Error, diferentes longitudes"
     ]
    }
   ],
   "source": [
    "def sumaVectores(vec1, vec2):\n",
    "    if(len(vec1) != len(vec2)):\n",
    "        raise Exception(\"Error, diferentes longitudes\")\n",
    "    resul = []\n",
    "    for elem1, elem2 in zip(vec1, vec2):\n",
    "        suma = elem1 + elem2\n",
    "        resul.append(suma)\n",
    "    return resul\n",
    "print(sumaVectores([2, 3, 4], [5, 7, 10]))\n",
    "sumaVectores([2, 3, 4], [5, 7, 10, 4]) # causa excepción"
   ]
  },
  {
   "cell_type": "markdown",
   "metadata": {},
   "source": [
    "Función map, para aplicar una función a todos los elementos de una lista"
   ]
  },
  {
   "cell_type": "code",
   "execution_count": 39,
   "metadata": {},
   "outputs": [
    {
     "data": {
      "text/plain": [
       "[16, 25, 36]"
      ]
     },
     "execution_count": 39,
     "metadata": {},
     "output_type": "execute_result"
    }
   ],
   "source": [
    "def cuadrado(x):\n",
    "    return x * x\n",
    "a = [4, 5, 6]\n",
    "res = map(cuadrado, a)\n",
    "list(res)"
   ]
  },
  {
   "cell_type": "markdown",
   "metadata": {
    "id": "DD_Ag5oyCsVE"
   },
   "source": [
    "Ejemplo: función que recibe dos listas que representan vectores y devuelve su producto escalar. Si no tienen el mismo número de elementos, lanza una excepción."
   ]
  },
  {
   "cell_type": "code",
   "execution_count": 11,
   "metadata": {
    "id": "y1NMuPRACsVF",
    "outputId": "e9dc8e9a-23e8-4e30-c4ee-fa91238ba8e9"
   },
   "outputs": [
    {
     "name": "stdout",
     "output_type": "stream",
     "text": [
      "71\n"
     ]
    },
    {
     "ename": "Exception",
     "evalue": "Error, diferentes longitudes",
     "output_type": "error",
     "traceback": [
      "\u001b[0;31m---------------------------------------------------------------------------\u001b[0m",
      "\u001b[0;31mException\u001b[0m                                 Traceback (most recent call last)",
      "Cell \u001b[0;32mIn[11], line 10\u001b[0m\n\u001b[1;32m      8\u001b[0m     \u001b[38;5;28;01mreturn\u001b[39;00m suma\n\u001b[1;32m      9\u001b[0m \u001b[38;5;28mprint\u001b[39m(productoEscalar([\u001b[38;5;241m2\u001b[39m, \u001b[38;5;241m3\u001b[39m, \u001b[38;5;241m4\u001b[39m], [\u001b[38;5;241m5\u001b[39m, \u001b[38;5;241m7\u001b[39m, \u001b[38;5;241m10\u001b[39m]))\n\u001b[0;32m---> 10\u001b[0m \u001b[43mproductoEscalar\u001b[49m\u001b[43m(\u001b[49m\u001b[43m[\u001b[49m\u001b[38;5;241;43m2\u001b[39;49m\u001b[43m,\u001b[49m\u001b[43m \u001b[49m\u001b[38;5;241;43m3\u001b[39;49m\u001b[43m,\u001b[49m\u001b[43m \u001b[49m\u001b[38;5;241;43m4\u001b[39;49m\u001b[43m]\u001b[49m\u001b[43m,\u001b[49m\u001b[43m \u001b[49m\u001b[43m[\u001b[49m\u001b[38;5;241;43m5\u001b[39;49m\u001b[43m,\u001b[49m\u001b[43m \u001b[49m\u001b[38;5;241;43m7\u001b[39;49m\u001b[43m,\u001b[49m\u001b[43m \u001b[49m\u001b[38;5;241;43m10\u001b[39;49m\u001b[43m,\u001b[49m\u001b[43m \u001b[49m\u001b[38;5;241;43m4\u001b[39;49m\u001b[43m]\u001b[49m\u001b[43m)\u001b[49m \u001b[38;5;66;03m# causa excepción\u001b[39;00m\n",
      "Cell \u001b[0;32mIn[11], line 3\u001b[0m, in \u001b[0;36mproductoEscalar\u001b[0;34m(vec1, vec2)\u001b[0m\n\u001b[1;32m      1\u001b[0m \u001b[38;5;28;01mdef\u001b[39;00m\u001b[38;5;250m \u001b[39m\u001b[38;5;21mproductoEscalar\u001b[39m(vec1, vec2):\n\u001b[1;32m      2\u001b[0m     \u001b[38;5;28;01mif\u001b[39;00m(\u001b[38;5;28mlen\u001b[39m(vec1) \u001b[38;5;241m!=\u001b[39m \u001b[38;5;28mlen\u001b[39m(vec2)):\n\u001b[0;32m----> 3\u001b[0m         \u001b[38;5;28;01mraise\u001b[39;00m \u001b[38;5;167;01mException\u001b[39;00m(\u001b[38;5;124m\"\u001b[39m\u001b[38;5;124mError, diferentes longitudes\u001b[39m\u001b[38;5;124m\"\u001b[39m)\n\u001b[1;32m      4\u001b[0m     suma \u001b[38;5;241m=\u001b[39m \u001b[38;5;241m0\u001b[39m\n\u001b[1;32m      5\u001b[0m     \u001b[38;5;28;01mfor\u001b[39;00m elem1, elem2 \u001b[38;5;129;01min\u001b[39;00m \u001b[38;5;28mzip\u001b[39m(vec1, vec2):\n",
      "\u001b[0;31mException\u001b[0m: Error, diferentes longitudes"
     ]
    }
   ],
   "source": [
    "def productoEscalar(vec1, vec2):\n",
    "    if(len(vec1) != len(vec2)):\n",
    "        raise Exception(\"Error, diferentes longitudes\")\n",
    "    suma = 0* \n",
    "    for elem1, elem2 in zip(vec1, vec2):\n",
    "        suma = suma + elem1 * elem2\n",
    "\n",
    "    return suma\n",
    "print(productoEscalar([2, 3, 4], [5, 7, 10]))\n",
    "productoEscalar([2, 3, 4], [5, 7, 10, 4]) # causa excepción"
   ]
  },
  {
   "cell_type": "code",
   "execution_count": 10,
   "metadata": {},
   "outputs": [
    {
     "data": {
      "text/plain": [
       "5.0"
      ]
     },
     "execution_count": 10,
     "metadata": {},
     "output_type": "execute_result"
    }
   ],
   "source": [
    "import math\n",
    "\n",
    "def longitudVector(lista):\n",
    "    longitud = 0\n",
    "    for i in lista:\n",
    "        longitud = longitud + i ** 2\n",
    "    return math.sqrt(longitud)\n",
    "\n",
    "longitudVector([3, 4])"
   ]
  },
  {
   "cell_type": "code",
   "execution_count": null,
   "metadata": {},
   "outputs": [
    {
     "data": {
      "text/plain": [
       "[[6, 8, 10], [12, 14, 16]]"
      ]
     },
     "execution_count": 3,
     "metadata": {},
     "output_type": "execute_result"
    }
   ],
   "source": [
    "def verificarMatriz2(matriz1, matriz2):\n",
    "    if len(matriz1) != len(matriz2):\n",
    "        raise Exception(\"Error, las matrices no tienen el mismo tamaño\")\n",
    "\n",
    "    for fila1, fila2 in zip(matriz1, matriz2):\n",
    "        if len(fila1) != len(fila2):\n",
    "            raise Exception(\"Error, las matrices no tienen el mismo tamaño\")\n",
    "\n",
    "    m3 = []\n",
    "    for i in range(len(matriz1)):\n",
    "        fila_resultado = []\n",
    "        for j in range(len(matriz1[i])):\n",
    "            suma = matriz1[i][j] + matriz2[i][j]\n",
    "            fila_resultado.append(suma)\n",
    "        m3.append(fila_resultado)\n",
    "    return m3\n",
    "\n",
    "m1 = [[0, 1, 2], [3, 4, 5]]\n",
    "m2 = [[6, 7, 8], [9, 10, 11]]\n",
    "verificarMatriz2(m1, m2)\n"
   ]
  },
  {
   "cell_type": "code",
   "execution_count": 6,
   "metadata": {},
   "outputs": [
    {
     "data": {
      "text/plain": [
       "[3, 4, 5]"
      ]
     },
     "execution_count": 6,
     "metadata": {},
     "output_type": "execute_result"
    }
   ],
   "source": [
    "def buscarMaximo(matriz, eje = 2):\n",
    "\n",
    "  if not matriz:\n",
    "    raise ValueError(\"Error: La matriz está vacía.\")\n",
    "\n",
    "  num_columnas = len(matriz[0])\n",
    "  for fila in matriz:\n",
    "    if len(fila) != num_columnas:\n",
    "      raise Exception(\"Error, todas las filas deben tener el mismo número de columnas\")\n",
    "\n",
    "  if eje not in [0, 1, 2]:\n",
    "    raise Exception(\"Error, el parametro eje debe ser 0, 1 o 2\")\n",
    "  \n",
    "  match eje:\n",
    "    case 0:\n",
    "      maximos_columnas = []\n",
    "      for col in range(num_columnas):\n",
    "        columna = [fila[col] for fila in matriz]\n",
    "        maximos_columnas.append(max(columna))\n",
    "      return maximos_columnas\n",
    "    case 1:\n",
    "      return [max(fila) for fila in matriz]\n",
    "    case 2:\n",
    "      return max(max(fila) for fila in matriz)\n",
    "    \n",
    "m1 = [[0, 1, 2], [3, 4, 5]]\n",
    "buscarMaximo(m1, 0)"
   ]
  },
  {
   "cell_type": "markdown",
   "metadata": {
    "id": "aD2HxjEsCsVF"
   },
   "source": [
    "# Matrices\n",
    "Las podemos representar con una lista de listas"
   ]
  },
  {
   "cell_type": "code",
   "execution_count": 44,
   "metadata": {
    "id": "IbAaTko7CsVF"
   },
   "outputs": [],
   "source": [
    "m1 = [[0, 1, 2], [4, 6, 8]]"
   ]
  },
  {
   "cell_type": "code",
   "execution_count": 46,
   "metadata": {
    "id": "_rqmdIa3CsVG",
    "outputId": "769c55f5-cac8-4a08-9e5a-9f2896b7db6a"
   },
   "outputs": [
    {
     "data": {
      "text/plain": [
       "2"
      ]
     },
     "execution_count": 46,
     "metadata": {},
     "output_type": "execute_result"
    }
   ],
   "source": [
    "len(m1)"
   ]
  },
  {
   "cell_type": "code",
   "execution_count": 48,
   "metadata": {
    "id": "FfQhlYYECsVG",
    "outputId": "92fa8b92-7fa2-4f5e-8c2e-ac99ab6e3a51"
   },
   "outputs": [
    {
     "data": {
      "text/plain": [
       "3"
      ]
     },
     "execution_count": 48,
     "metadata": {},
     "output_type": "execute_result"
    }
   ],
   "source": [
    "len(m1[0])"
   ]
  },
  {
   "cell_type": "markdown",
   "metadata": {
    "id": "2IL7EdvMCsVH"
   },
   "source": [
    "Recorrer una matriz posición a posición"
   ]
  },
  {
   "cell_type": "code",
   "execution_count": 51,
   "metadata": {
    "id": "2CyFIOwyCsVK",
    "outputId": "f541f0d7-8ab3-4fc5-aaf5-b0067616422f"
   },
   "outputs": [
    {
     "name": "stdout",
     "output_type": "stream",
     "text": [
      "0 1 2 \n",
      "4 6 8 \n"
     ]
    }
   ],
   "source": [
    "listam1 = [[0, 1, 2], [4, 6, 8]]\n",
    "for i in range(len(m1)):\n",
    "    for j in range(len(m1[i])):\n",
    "        print(m1[i][j], end = \" \")\n",
    "    # para cambiar de fila\n",
    "    print()"
   ]
  },
  {
   "cell_type": "markdown",
   "metadata": {
    "id": "ljkSG4DMCsVK"
   },
   "source": [
    "# List comprehension"
   ]
  },
  {
   "cell_type": "code",
   "execution_count": null,
   "metadata": {
    "id": "BV29OI7_CsVK",
    "outputId": "22d64a67-4efb-4ccd-a527-f287ef15a650"
   },
   "outputs": [],
   "source": [
    "lista = list(range(5))\n",
    "lista"
   ]
  },
  {
   "cell_type": "code",
   "execution_count": null,
   "metadata": {
    "id": "kFlLHgvlCsVK",
    "outputId": "fd7c5a09-e1f6-47ad-f5ed-f3bccc0ab50d"
   },
   "outputs": [],
   "source": [
    "lista2 = [x*2 for x in lista]\n",
    "lista2"
   ]
  },
  {
   "cell_type": "code",
   "execution_count": null,
   "metadata": {
    "id": "OwkNctcJCsVL",
    "outputId": "a6c5e506-52c6-449f-e9af-dad9673ae2a7"
   },
   "outputs": [],
   "source": [
    "lista3 = [x for x in lista if x >2]\n",
    "lista3"
   ]
  },
  {
   "cell_type": "code",
   "execution_count": null,
   "metadata": {
    "id": "NKhLUJ2QCsVM",
    "outputId": "c4da8c9e-7756-4401-d55f-e0f5d43e6881"
   },
   "outputs": [],
   "source": [
    "lista4 = [x*2 if x > 3 else 0 for x in lista2 ]\n",
    "lista4"
   ]
  },
  {
   "cell_type": "markdown",
   "metadata": {
    "id": "GdK7AJt0CsVM"
   },
   "source": [
    "# Funciones lambda"
   ]
  },
  {
   "cell_type": "code",
   "execution_count": null,
   "metadata": {},
   "outputs": [],
   "source": [
    "Donde se espera una función, se puede usar una función anónima."
   ]
  },
  {
   "cell_type": "code",
   "execution_count": 42,
   "metadata": {},
   "outputs": [
    {
     "data": {
      "text/plain": [
       "[2, 4, 6, 8, 10]"
      ]
     },
     "execution_count": 42,
     "metadata": {},
     "output_type": "execute_result"
    }
   ],
   "source": [
    "a = [1, 2, 3, 4, 5]\n",
    "list(map(lambda n: n * 2, a))"
   ]
  }
 ],
 "metadata": {
  "colab": {
   "provenance": []
  },
  "kernelspec": {
   "display_name": "Python 3",
   "language": "python",
   "name": "python3"
  },
  "language_info": {
   "codemirror_mode": {
    "name": "ipython",
    "version": 3
   },
   "file_extension": ".py",
   "mimetype": "text/x-python",
   "name": "python",
   "nbconvert_exporter": "python",
   "pygments_lexer": "ipython3",
   "version": "3.12.4"
  }
 },
 "nbformat": 4,
 "nbformat_minor": 4
}
