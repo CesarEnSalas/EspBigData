{
 "cells": [
  {
   "cell_type": "code",
   "execution_count": 3,
   "id": "1cb69111-44f2-484f-9e05-ebfc54199d00",
   "metadata": {},
   "outputs": [],
   "source": [
    "lista = ['hola', 'que', 'tal']"
   ]
  },
  {
   "cell_type": "code",
   "execution_count": null,
   "id": "ba738a4c-c5c7-4a1c-9012-d8ce6f2649d1",
   "metadata": {},
   "outputs": [],
   "source": [
    "Para recorrer de la lista"
   ]
  },
  {
   "cell_type": "code",
   "execution_count": 5,
   "id": "58afe9dc-accf-4765-95b2-b300fc5666f8",
   "metadata": {},
   "outputs": [
    {
     "name": "stdout",
     "output_type": "stream",
     "text": [
      "hola\n",
      "que\n",
      "tal\n"
     ]
    }
   ],
   "source": [
    "for elem in lista:\n",
    "    print(elem)"
   ]
  },
  {
   "cell_type": "code",
   "execution_count": null,
   "id": "f2ade19f-51ff-4f4c-8e61-5629c690dfb5",
   "metadata": {},
   "outputs": [],
   "source": [
    "Si se quiere usar la posición"
   ]
  },
  {
   "cell_type": "code",
   "execution_count": 11,
   "id": "feaae916-a2d2-4120-b4ce-6309b947af2e",
   "metadata": {},
   "outputs": [
    {
     "name": "stdout",
     "output_type": "stream",
     "text": [
      "hola\n",
      "que\n"
     ]
    }
   ],
   "source": [
    "for i in  range(len(lista)):\n",
    "    if i!=2:\n",
    "        print(lista[i])"
   ]
  },
  {
   "cell_type": "code",
   "execution_count": null,
   "id": "a0f88d08-3480-450a-8f4c-39ddeaa4ef52",
   "metadata": {},
   "outputs": [],
   "source": []
  }
 ],
 "metadata": {
  "kernelspec": {
   "display_name": "Python 3 (ipykernel)",
   "language": "python",
   "name": "python3"
  },
  "language_info": {
   "codemirror_mode": {
    "name": "ipython",
    "version": 3
   },
   "file_extension": ".py",
   "mimetype": "text/x-python",
   "name": "python",
   "nbconvert_exporter": "python",
   "pygments_lexer": "ipython3",
   "version": "3.12.3"
  }
 },
 "nbformat": 4,
 "nbformat_minor": 5
}
