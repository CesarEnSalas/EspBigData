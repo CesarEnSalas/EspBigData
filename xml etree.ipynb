{
 "cells": [
  {
   "cell_type": "code",
   "execution_count": 6,
   "id": "355b8469",
   "metadata": {
    "tags": []
   },
   "outputs": [],
   "source": [
    "import xml.etree.ElementTree as ET\n",
    "import requests\n"
   ]
  },
  {
   "cell_type": "markdown",
   "id": "fb1d7fa9-8af3-4add-a761-97f0e356ea7c",
   "metadata": {},
   "source": [
    "Para un fichero en local, creamos el documento y obtenemos el elemento raíz"
   ]
  },
  {
   "cell_type": "code",
   "execution_count": 9,
   "id": "4ac07df5-412a-46fe-8f2a-48ab77d91733",
   "metadata": {
    "tags": []
   },
   "outputs": [],
   "source": [
    "# tree = ET.parse('country_data.xml')\n",
    "# root = tree.getroot()"
   ]
  },
  {
   "cell_type": "markdown",
   "id": "44709749-f59e-4e04-9a17-d445ad300707",
   "metadata": {},
   "source": [
    "Para una URL, usamos fromstring que obtiene directamente el elemento raíz. La cadena se obtiene con la librería requests"
   ]
  },
  {
   "cell_type": "code",
   "execution_count": 12,
   "id": "29bff1b8-a725-4b70-92d5-f1a5aa7d7570",
   "metadata": {
    "tags": []
   },
   "outputs": [
    {
     "data": {
      "text/plain": [
       "'rss'"
      ]
     },
     "execution_count": 12,
     "metadata": {},
     "output_type": "execute_result"
    }
   ],
   "source": [
    "\n",
    "root = ET.fromstring(requests.get('https://feeds.elpais.com/mrss-s/pages/ep/site/elpais.com/section/ultimas-noticias/portada').content)\n",
    "root.tag"
   ]
  },
  {
   "cell_type": "markdown",
   "id": "5078e170",
   "metadata": {},
   "source": [
    "Buscamos todas las noticias"
   ]
  },
  {
   "cell_type": "code",
   "execution_count": 14,
   "id": "3a1df26a",
   "metadata": {
    "tags": []
   },
   "outputs": [],
   "source": [
    "noticias = root.findall(\".//item\")"
   ]
  },
  {
   "cell_type": "markdown",
   "id": "01ac4430",
   "metadata": {},
   "source": [
    "Recorremos todas las noticias mostrando el título"
   ]
  },
  {
   "cell_type": "code",
   "execution_count": 18,
   "id": "97a199a8",
   "metadata": {
    "tags": []
   },
   "outputs": [
    {
     "name": "stdout",
     "output_type": "stream",
     "text": [
      "El ejército de Israel invade el sur de Líbano\n",
      "La toma de protesta de Claudia Sheinbaum, en vivo | López Obrador se despide de los mexicanos: “Muchas gracias y hasta siempre”\n",
      "El Gobierno cree que el nuevo retraso en el ‘caso Begoña Gómez’ refuerza la tesis de la prevaricación \n",
      "Descubierto un planeta en la estrella solitaria más cercana al Sol\n",
      "Los supermercados ya aplican la subida del IVA: el litro de aceite de oliva virgen extra vuelve a superar los 9 euros\n",
      "El cierre judicial del ‘caso rueda’ de la SGAE certifica que no hubo delitos pero deja dudas éticas\n",
      "El PP registra su proposición de ley sobre conciliación: “No es ni derechas ni de izquierdas, sino útil”\n",
      "Vídeo | Iniesta se retira: la narración de su histórico gol en el Mundial de Sudáfrica hace 14 años\n",
      "Pichot: oro, 2ª presea en 9 días\n",
      "El Govern amplía en 400 plazas la última promoción de los  Mossos d’Esquadra\n",
      "El ejercicio de ser Miu Miu\n",
      "El Barcelona cierra el ejercicio con 91 millones de pérdidas\n",
      "La huelga de los estibadores de la costa Este y el golfo de México pone contra las cuerdas a la economía de EE UU\n",
      "El PP ultima su giro y la Generalitat se suma a la petición de anular los juicios a Miguel Hernández  \n",
      "Resignación y deserción en el primer día del corte de trenes en el corredor sur\n",
      "El PP propone bonificaciones fiscales a los propietarios que alquilen casas vacías\n",
      "IBM inaugura su primer centro de datos cuánticos en Europa para desentrañar los misterios de la naturaleza\n",
      "El nuevo primer ministro de Japón presenta un polémico nuevo Gabinete con solo dos ministras\n",
      "San Fernando de Henares suspende el espectáculo del comediante David Suárez por sus burlas al municipio\n",
      "El Senado acogerá una cumbre de la extrema derecha internacional contra el aborto\n",
      "Barcelona prepara la reforma de la Boqueria en paralelo a las obras de la Rambla\n",
      "‘The shit show’ en el Teatro Quique San Francisco\n",
      "Marlaska defiende el nuevo registro de viajeros pese a las críticas del sector hotelero\n",
      "Los mejores proyectores portátiles para ver películas\n",
      "La Fiscalía apoya que la Audiencia Nacional investigue el supuesto chiringuito financiero vinculado con Alvise\n",
      "Disfruta en familia de ‘Hansel y Gretel, el musical’ \n",
      "Disfruta de la programación familiar de la Sala Cuarta Pared\n",
      "Joan Tardà se decanta por Oriol Junqueras en la carrera por presidir ERC\n",
      "Qué es y cómo se tramita una acusación constitucional en Chile\n",
      "Chanel y los lazos XL\n",
      "Disfruta en cines de ‘El club de los milagros’\n",
      "Gana entradas para ver en cines ‘Robot Salvaje’\n",
      "Suga, integrante de BTS, es multado por conducir borracho un patinete en Seúl\n",
      "De puerta a puerta\n",
      "El IPC en la eurozona cae al 2% por primera vez en tres años y abre la puerta a rebajas de tipos más agresivas del BCE\n",
      "Llega el perfume ‘cowboy core’ que reivindica la sensualidad del cuero y del Lejano Oeste\n",
      "Para mojarnos menos bajo la lluvia, ¿es mejor caminar o correr?\n",
      "Última hora de la actualidad política, en directo | El PP registra su proposición de ley sobre conciliación: “No es ni de derechas ni de izquierda, sino útil” \n",
      "Los colegios concertados cobran cuotas cada vez más altas: hasta 6.000 euros al año\n",
      "Cambio de armario: las bolsas al vacío con bomba manual que necesitas\n",
      "El pintor de las azoteas otea Cádiz en 360 grados\n",
      "Los 669 soldados españoles se refugian en sus búnkeres ante la invasión israelí del sur de Líbano\n",
      "El último regate de Iniesta, que se retira del fútbol\n",
      "Fichamos las zapatillas ‘barefoot’ de moda con rebaja incluida este otoño\n",
      "El soterramiento de la A-5 comenzará antes del 15 de octubre pero el tráfico no se verá afectado hasta diciembre\n",
      "Qué ver en los Balcanes: una ruta por sus principales joyas históricas (y patrimonio de la humanidad)\n",
      "Al menos 10 muertos en el incendio de un autobús escolar en Tailandia\n",
      "Más Madrid denuncia ante la Fiscalía 342 contratos del Gobierno de Ayuso que considera troceados para eludir controles o concursos \n",
      "Julian Assange: “Estoy libre porque me declaré culpable de hacer periodismo”\n",
      "La 1 cae en audiencias en septiembre a pesar de ‘La revuelta’\n",
      "Salvamento localiza a 15 kilómetros de El Hierro el cayuco con 60 personas a bordo que buscaba desde anoche\n",
      "La Real Academia de Gastronomía celebra el 50 aniversario de sus premios con una gala homenaje sin nuevos galardones\n",
      "Pobreta literatura catalana\n",
      "Tornen les trobades amb els lectors amb Regina Rodríguez\n",
      "Escritorios plegables: 5 soluciones versátiles para montar tu oficina en espacios pequeños \n",
      "Arranca sin incidencias el corte de trenes de Renfe entre Barcelona y Tarragona que durará cinco meses\n",
      "Ludovic de Saint Sernin, estudio del movimiento\n",
      "Los mejores ‘smartwatches’ para niños en la actualidad\n",
      "El punto de vista de Balenciaga\n",
      "Del traje Príncipe de Gales a la chaqueta ‘Velospeed’: las claves del estilo ‘British’\n",
      "Intentar cambiar tu ciudad como los vecinos de ‘El 47′\n",
      "Si un hombre de Marte \n",
      "Estas plantillas alivian el dolor de pies y la fascitis plantar\n",
      "La camiseta deportiva de secado rápido que arrasa en Amazon\n",
      "Barcelona – Young Boys | Horario y dónde ver el partido de la Champions League\n",
      "‘Zeus’, el militar retirado que terminó en las filas del Clan del Golfo cuando prometía hacer la paz\n",
      "Conflicto en Oriente Próximo, en directo | El ejército israelí pone en alerta a la población del sur de Líbano ante los “intensos combates” con Hezbolá\n",
      "Petro, a su llegada a la investidura de Sheinbaum en México: “Estamos tratando de juntar el esfuerzo para dar una salida a Venezuela”\n",
      "El accidentado paso de Anna Delvey por ‘Dancing With The Stars’: la plataforma a la redención que acabó en pataleta\n",
      "Un juez federal anula parte de la ley texana que dificulta el voto a los latinos\n",
      "La presencia femenina en las alcaldías de Brasil es la menor de América Latina \n",
      "Debate entre Tim Walz y J.D. Vance: horario, reglas y dónde ver el cara a cara de los candidatos a la vicepresidencia\n",
      "Jimmy Carter cumple 100 años: claves para entender el legado de un presidente centenario\n",
      "Qué esperar de Sheinbaum\n",
      "Claudia Sheinbaum, la primera presidenta en México: un futuro económico con liderazgo femenino\n",
      "Zoom al bolsillo fiscal del Gobierno de Gabriel Boric para 2025\n",
      "Para Claudia Sheinbaum: jefa del Estado mexicano. Mejts\n"
     ]
    }
   ],
   "source": [
    "for noticia in noticias:\n",
    "    print(noticia[1].text)"
   ]
  },
  {
   "cell_type": "markdown",
   "id": "da2a626e",
   "metadata": {},
   "source": [
    "Otra opción:"
   ]
  },
  {
   "cell_type": "code",
   "execution_count": 7,
   "id": "68c46a89",
   "metadata": {
    "tags": []
   },
   "outputs": [
    {
     "name": "stdout",
     "output_type": "stream",
     "text": [
      "Guerra entre Israel y Gaza, en directo | Soldados israelíes entran en el principal hospital operativo de Gaza, en Jan Yunis\n",
      "Una quincena de tractores se concentran en la sede de Agricultura antes de la reunión de Planas y las asociaciones\n",
      "Seis muertos, entre ellos una bebé, por un ataque contra la ciudad rusa de Bélgorod\n",
      "La lista de Montse Tomé para la Nations League incluye a Alexia Putellas: “No vamos a hacer ninguna locura”\n",
      "Ayuso defiende no haber trasladado a ancianos de las residencias a los hospitales en la pandemia: “No se salvaban en ningún sitio”\n",
      "De juego de mesa soviético a película de Netflix: la historia detrás de ‘Los hombres lobo de Castronegro’\n",
      "Muere la actriz Sasha Montenegro a los 78 años\n",
      "Elecciones en México 2024, en vivo | Morena presenta a sus 300 candidatos a diputados federales\n",
      "Aragón deroga la ley de memoria autonómica con los votos de PP, Vox y el PAR\n",
      "La justicia eleva a 10 años la condena a un hombre que intentó matar a otro durante una cita en Bilbao\n",
      "El Reino Unido y Letonia lanzan una coalición para enviar drones a Ucrania\n",
      "Cataluña detecta tres brotes de tos ferina en el Vallès\n",
      "La revolución del ajedrez que lidera Carlsen tendrá su propio circuito en cuatro continentes\n",
      "Este es el lip combo ‘coquette’ superventas que arrasa en TikTok\n",
      "El PP acelera la posible sanción a Monasterio por su supuesto doble voto en la Asamblea de Madrid\n",
      "El 28% de los hogares en España son de alguien que vive solo\n",
      "México alcanza un récord histórico de inversión extranjera directa: más de 36.000 millones de dólares en 2023 \n",
      "Una funda dental de 800.000 euros: ¿qué son los ‘grillz’ y por qué lo lucen todas las estrellas? \n",
      "La rehabilitación de vivienda queda lejos de los objetivos del Gobierno pese a subir más de un 9%\n",
      "La Comisión de Ética Judicial avala las concentraciones de jueces contra la amnistía\n",
      "Japón entra en recesión y cede a Alemania el puesto de tercera mayor economía mundial\n",
      "Beyoncé desafía la narrativa blanca: los locos ‘looks’ con los que se adueña del universo ‘country’\n",
      "Corregir i fer com si no\n",
      "Una narcolancha con 4.350 kilos de cocaína, apresada a 1.000 kilómetros de Canarias\n",
      "Los duendes del cobalto y otras historias del infierno\n",
      "Un consejero de la Generalitat afirma que Sánchez está “abierto” a indultar a quienes queden fuera de la amnistía\n",
      "Bruselas empeora las previsiones económicas europeas lastradas por Alemania\n",
      "La violencia machista y sexual le cuesta a España 4.933 millones de euros al año\n",
      "Los socialistas europeos llevan a Bruselas el giro de Feijóo sobre el perdón al independentismo\n",
      "Ergo Pro, músico: “En el rap intento decir la mayor burrada, pero ni insulto ni utilizo a colectivos”\n",
      "España se mantiene entre las 24 democracias plenas del mundo, según ‘The Economist’\n",
      "Madrid tiene la mayor brecha salarial de género de España: ellas cobran al año 7.971 euros menos que ellos \n",
      "‘First Dates San Valentín’: una hora de terapia de choque para la caverna preconstitucional\n",
      "El Reino Unido entró en recesión a finales de 2023\n",
      "Díaz cree que alcanzará un acuerdo con los sindicatos en el subsidio del paro, pero no con la patronal\n",
      "Cuatro alcaldes, cuatro recetas para gestionar la inmigración\n",
      "El detenido por el triple crimen de Morata de Tajuña mata a su compañero de celda en la prisión de Estremera\n",
      "Últimas noticias de la actualidad política, en directo | Díaz asegura que trata con frecuencia con Puigdemont: “He vuelto a hablar con él esta semana”\n",
      "Los costes de la reconstrucción de Ucrania ascienden ya a casi 450.000 millones de euros\n",
      "El repunte de la electricidad eleva la inflación hasta el 3,4% en enero, tres décimas más\n",
      "Cómo eliminar verrugas \n",
      "Lanzada con éxito ‘Odiseo’, la nave con la que EE UU quiere regresar a la Luna medio siglo después\n",
      "Este escurreplatos plegable y con sistema de drenaje es ideal para ahorrar espacio\n",
      "Las cinco noticias clave del 15 de febrero\n",
      "La misteriosa muerte de Dilan Santiago, un niño de dos años, conmociona a Colombia\n",
      "Ecominerales, el ‘Frankenstein’ minero que impulsa Petro\n",
      "Ministro embollado\n",
      "Miles de millones sin gastar en ayudas que no llegan\n",
      "Las cuatro grandes organizaciones agrarias usan las carreteras para medir sus fuerzas ante el Gobierno\n",
      "Los gobiernos autonómicos estrenan el año con rebajas millonarias de impuestos\n",
      "FlexMyRoom convierte en negocio los seguros contra los viajes cancelados\n",
      "Fixtoe, la empresa de podólogos que ayuda a caminar con paso firme\n",
      "Damasco - Bengasi: el tráfico de migrantes en vuelo chárter llega a Fitur\n",
      "Viaje a Avión, el pueblo donde Vox puso su pica en Galicia\n",
      "Toques de queda y escuelas cerradas: la guerra asfixia a los palestinos de Hebrón\n",
      "Rueda: “No me veo de presidente teniendo que pactar”\n",
      "15 horas de cerco policial dieron caza a la narcolancha de El Cabra tras su huida de Barbate\n",
      "El fenómeno de la migración impulsa la llegada de un enlace de la Policía de Nueva York a Bogotá\n",
      "La condena de sentirse constantemente un fraude\n",
      "PSOE y Junts reactivan las negociaciones para la ley de amnistía con posiciones alejadas\n",
      "Aventura en las islas de Robinson Crusoe\n",
      "Manuel Filiberto de Saboya se desdice y se proclama jefe de la casa real italiana\n",
      "De la Fiesta Design a los encuentros con los creativos más estimulantes: lo mejor de esta semana en Madrid Design Festival\n",
      "La Fiscalía abre una nueva vía para perseguir penalmente la muerte de aves en tendidos eléctricos\n",
      "35 años del IVAM, el museo más moderno de la España autonómica: “Había que estar allí”\n",
      "Félix Lozano, economista: “No podemos decir a los alumnos dónde van a tener un futuro laboral en cinco años”\n",
      "Las peticiones de eutanasia en pareja experimentan un aumento en Países Bajos\n",
      "Arévalo abre las puertas de la elección de gobernadores a los líderes indígenas en Guatemala\n",
      "Jannik Sinner: “Siempre he sido tranquilo, la mente es lo único que se puede controlar”\n",
      "“No podemos normalizar el tener a niños de 10 años trabajando como influencers”: el reto de controlar a los menores haciendo publicidad\n",
      "Los 12 discos de pop y rock que hay que escuchar hoy (febrero 2024)\n",
      "Ronit Porat, una mirada entre el bien y el mal\n",
      "Ciruela de azúcar o café con leche: por qué Hailey Bieber nombra a sus maquillajes con nombre de comida\n",
      "Javiera Toro, la carrera más difícil de la ministra a cargo de la reconstrucción en Chile\n",
      "Fiscalía y Gobierno silencian la cacería de la Armada en Nuevo Laredo en 2018\n",
      "Tímido y con aletas “como las orejas de Mickey Mouse”: así es el desconocido delfín chileno\n"
     ]
    }
   ],
   "source": [
    "for noticia in noticias:\n",
    "    titulo = noticia.find(\".title\")\n",
    "    print(titulo.text)"
   ]
  },
  {
   "cell_type": "markdown",
   "id": "d6c3be65-ff56-4cb4-801a-28807d121794",
   "metadata": {},
   "source": [
    "Ejercicio: \n",
    "    a) Mostrar solo las noticias con la categoría \"Huelgas\"."
   ]
  },
  {
   "cell_type": "code",
   "execution_count": 25,
   "id": "2e309965",
   "metadata": {
    "tags": []
   },
   "outputs": [
    {
     "name": "stdout",
     "output_type": "stream",
     "text": [
      "La huelga de los estibadores de la costa Este y el golfo de México pone contra las cuerdas a la economía de EE UU\n"
     ]
    }
   ],
   "source": [
    "for noticia in noticias:\n",
    "    categorias = noticia.findall(\".category\")\n",
    "    for categoria in categorias:\n",
    "        if categoria.text == \"Huelgas\":\n",
    "            titulo = noticia.find(\".title\")\n",
    "            print(titulo.text)\n",
    "            break"
   ]
  },
  {
   "cell_type": "markdown",
   "id": "a48e2fed-0ab3-43a9-b30b-ce7b4ad4b9cb",
   "metadata": {},
   "source": [
    "b) Escribe un script que muestre los datos de los terremotos ocurridos en los últimos 10 días con una magnitud igual o superior a 3.\n",
    "\n",
    "https://www.ign.es/ign/RssTools/sismologia.xml"
   ]
  },
  {
   "cell_type": "markdown",
   "id": "6bfdbe2c-7f9f-45cf-9983-d9cbee80aecc",
   "metadata": {},
   "source": [
    "Cargar el fichero"
   ]
  },
  {
   "cell_type": "code",
   "execution_count": 12,
   "id": "66cf5e45-e3ec-45f1-94c5-0fb490e276e7",
   "metadata": {
    "tags": []
   },
   "outputs": [
    {
     "data": {
      "text/plain": [
       "'rss'"
      ]
     },
     "execution_count": 12,
     "metadata": {},
     "output_type": "execute_result"
    }
   ],
   "source": [
    "root = ET.fromstring(requests.get('https://www.ign.es/ign/RssTools/sismologia.xml').content)\n",
    "root.tag"
   ]
  },
  {
   "cell_type": "code",
   "execution_count": null,
   "id": "8fc76ef9-ba01-4646-a2bd-e73f8a758d62",
   "metadata": {},
   "outputs": [],
   "source": [
    "Seleccionamos los terremotos"
   ]
  },
  {
   "cell_type": "code",
   "execution_count": 21,
   "id": "6298383c-bd73-4ce5-9668-c400ea64f22c",
   "metadata": {
    "tags": []
   },
   "outputs": [],
   "source": [
    "terremotos = root.findall(\".//item\")"
   ]
  },
  {
   "cell_type": "code",
   "execution_count": 23,
   "id": "4c4f35b0-fc33-4940-9f66-b2ed15100eb6",
   "metadata": {
    "scrolled": true,
    "tags": []
   },
   "outputs": [
    {
     "name": "stdout",
     "output_type": "stream",
     "text": [
      "Se ha producido un terremoto de magnitud 3.9 en SW CABO DE SAN VICENTE en la fecha 15/02/2024 8:08:06 en la siguiente localización: 36.2128,-10.6284\n",
      "Se ha producido un terremoto de magnitud 4.9 en N MASCARA.ARG en la fecha 14/02/2024 13:33:43 en la siguiente localización: 35.6331,0.083\n",
      "Se ha producido un terremoto de magnitud 3.8 en AZORES-CABO DE SAN VICENTE en la fecha 13/02/2024 16:05:38 en la siguiente localización: 37.4788,-15.6567\n",
      "Se ha producido un terremoto de magnitud 3.3 en GOLFO DE VALENCIA en la fecha 11/02/2024 12:59:11 en la siguiente localización: 39.2349,0.1751\n",
      "Se ha producido un terremoto de magnitud 3.6 en ATLÁNTICO-MADEIRA en la fecha 06/02/2024 1:24:31 en la siguiente localización: 32.1705,-17.0734\n",
      "Se ha producido un terremoto de magnitud 3.2 en SW CABO DE SAN VICENTE en la fecha 06/02/2024 0:56:34 en la siguiente localización: 36.0302,-10.9188\n"
     ]
    }
   ],
   "source": [
    "for terremoto in terremotos:\n",
    "    # seleccionar la magnitud, es la octava palabra de la descripción\n",
    "    desc = terremoto.find(\".description\").text\n",
    "    magnitud = float(desc.split(\" \")[7])\n",
    "    if magnitud > 3:\n",
    "        print(desc)\n",
    "    "
   ]
  },
  {
   "cell_type": "markdown",
   "id": "0f12ec4a-8a06-4f07-b73a-23d0aa5c8075",
   "metadata": {},
   "source": [
    "Para fechas, el tipo básico de Python es datetime, vamos a probarlo"
   ]
  },
  {
   "cell_type": "code",
   "execution_count": 29,
   "id": "7ad75c51-4f3b-43f5-ac0b-5cd02c15fe19",
   "metadata": {
    "tags": []
   },
   "outputs": [],
   "source": [
    "from datetime import datetime as dt"
   ]
  },
  {
   "cell_type": "code",
   "execution_count": 34,
   "id": "e81a9ee1-bbb0-4480-9558-124a325494e0",
   "metadata": {
    "tags": []
   },
   "outputs": [
    {
     "name": "stdout",
     "output_type": "stream",
     "text": [
      "2024-02-15 00:00:00\n",
      "2024-02-14 00:00:00\n",
      "2024-02-14 00:00:00\n",
      "2024-02-14 00:00:00\n",
      "2024-02-14 00:00:00\n",
      "2024-02-13 00:00:00\n",
      "2024-02-12 00:00:00\n",
      "2024-02-11 00:00:00\n",
      "2024-02-10 00:00:00\n",
      "2024-02-10 00:00:00\n",
      "2024-02-09 00:00:00\n",
      "2024-02-08 00:00:00\n",
      "2024-02-07 00:00:00\n",
      "2024-02-06 00:00:00\n",
      "2024-02-06 00:00:00\n",
      "2024-02-06 00:00:00\n",
      "2024-02-05 00:00:00\n",
      "2024-02-05 00:00:00\n"
     ]
    }
   ],
   "source": [
    "for terremoto in terremotos:\n",
    "    # seleccionar la magnitud, es la sétpima palabra de la descripción\n",
    "    tit = terremoto.find(\".title\").text\n",
    "    fecha_cad = tit.split(\" \")[1]\n",
    "    #print(fecha_cad)\n",
    "    # es una cadena, para convertirla a datetime\n",
    "    fecha = dt.strptime(fecha_cad, \"%d/%m/%Y\")\n",
    "    print(fecha)"
   ]
  },
  {
   "cell_type": "code",
   "execution_count": null,
   "id": "3f62e0db-beb8-4904-8b7a-29ba4e63cb71",
   "metadata": {},
   "outputs": [],
   "source": []
  }
 ],
 "metadata": {
  "kernelspec": {
   "display_name": "Python 3 (ipykernel)",
   "language": "python",
   "name": "python3"
  },
  "language_info": {
   "codemirror_mode": {
    "name": "ipython",
    "version": 3
   },
   "file_extension": ".py",
   "mimetype": "text/x-python",
   "name": "python",
   "nbconvert_exporter": "python",
   "pygments_lexer": "ipython3",
   "version": "3.12.3"
  }
 },
 "nbformat": 4,
 "nbformat_minor": 5
}
